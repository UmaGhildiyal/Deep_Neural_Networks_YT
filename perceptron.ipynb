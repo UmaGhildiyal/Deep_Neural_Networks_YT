{
 "cells": [
  {
   "cell_type": "code",
   "execution_count": 1,
   "id": "dbfb884d",
   "metadata": {
    "_cell_guid": "b1076dfc-b9ad-4769-8c92-a6c4dae69d19",
    "_uuid": "8f2839f25d086af736a60e9eeb907d3b93b6e0e5",
    "execution": {
     "iopub.execute_input": "2024-06-01T16:16:40.823306Z",
     "iopub.status.busy": "2024-06-01T16:16:40.822883Z",
     "iopub.status.idle": "2024-06-01T16:16:57.248877Z",
     "shell.execute_reply": "2024-06-01T16:16:57.247487Z"
    },
    "papermill": {
     "duration": 16.433366,
     "end_time": "2024-06-01T16:16:57.252038",
     "exception": false,
     "start_time": "2024-06-01T16:16:40.818672",
     "status": "completed"
    },
    "tags": []
   },
   "outputs": [
    {
     "name": "stderr",
     "output_type": "stream",
     "text": [
      "2024-06-01 16:16:43.233431: E external/local_xla/xla/stream_executor/cuda/cuda_dnn.cc:9261] Unable to register cuDNN factory: Attempting to register factory for plugin cuDNN when one has already been registered\n",
      "2024-06-01 16:16:43.233549: E external/local_xla/xla/stream_executor/cuda/cuda_fft.cc:607] Unable to register cuFFT factory: Attempting to register factory for plugin cuFFT when one has already been registered\n",
      "2024-06-01 16:16:43.423443: E external/local_xla/xla/stream_executor/cuda/cuda_blas.cc:1515] Unable to register cuBLAS factory: Attempting to register factory for plugin cuBLAS when one has already been registered\n"
     ]
    }
   ],
   "source": [
    "import tensorflow as tf\n",
    "import numpy as np"
   ]
  },
  {
   "cell_type": "code",
   "execution_count": 2,
   "id": "414ce701",
   "metadata": {
    "execution": {
     "iopub.execute_input": "2024-06-01T16:16:57.259380Z",
     "iopub.status.busy": "2024-06-01T16:16:57.258665Z",
     "iopub.status.idle": "2024-06-01T16:16:57.329167Z",
     "shell.execute_reply": "2024-06-01T16:16:57.327785Z"
    },
    "papermill": {
     "duration": 0.077102,
     "end_time": "2024-06-01T16:16:57.331920",
     "exception": false,
     "start_time": "2024-06-01T16:16:57.254818",
     "status": "completed"
    },
    "tags": []
   },
   "outputs": [
    {
     "name": "stdout",
     "output_type": "stream",
     "text": [
      "tf.Tensor([[2.1688156]], shape=(1, 1), dtype=float32) Linear combination\n",
      "Inputs =  [[0.81896937 0.77472764]]\n",
      "Weights =  [[0.8541918 ]\n",
      " [0.90579903]]\n",
      "Bias =  [0.7675111]\n",
      "Output =  [[1.]]\n"
     ]
    }
   ],
   "source": [
    "class perceptron(tf.Module):\n",
    "    def __init__ (self, input_size):\n",
    "        self.weights = tf.Variable(tf.random.uniform([input_size, 1], dtype = tf.float32 ))\n",
    "        self.bias = tf.Variable(tf.random.uniform([1], dtype = tf.float32 ))\n",
    "        \n",
    "    def step_function(self, x):\n",
    "        return tf.cast(tf.math.greater(x,0), dtype = tf.float32 )\n",
    "    \n",
    "    def forward(self, inputs):\n",
    "        linear_combination = tf.linalg.matmul(inputs, self.weights) + self.bias\n",
    "        print(linear_combination, \"Linear combination\")\n",
    "        output = self.step_function(linear_combination)\n",
    "        return output\n",
    "    \n",
    "input_size = 2\n",
    "model = perceptron(input_size)\n",
    "\n",
    "inputs = tf.constant(np.random.rand(1, input_size), dtype = tf.float32)\n",
    "\n",
    "output = model.forward(inputs)\n",
    "\n",
    "print(\"Inputs = \", inputs.numpy())\n",
    "print(\"Weights = \", model.weights.numpy())\n",
    "print(\"Bias = \", model.bias.numpy())\n",
    "print(\"Output = \", output.numpy())"
   ]
  }
 ],
 "metadata": {
  "kaggle": {
   "accelerator": "none",
   "dataSources": [],
   "dockerImageVersionId": 30715,
   "isGpuEnabled": false,
   "isInternetEnabled": false,
   "language": "python",
   "sourceType": "notebook"
  },
  "kernelspec": {
   "display_name": "Python 3",
   "language": "python",
   "name": "python3"
  },
  "language_info": {
   "codemirror_mode": {
    "name": "ipython",
    "version": 3
   },
   "file_extension": ".py",
   "mimetype": "text/x-python",
   "name": "python",
   "nbconvert_exporter": "python",
   "pygments_lexer": "ipython3",
   "version": "3.10.13"
  },
  "papermill": {
   "default_parameters": {},
   "duration": 22.168766,
   "end_time": "2024-06-01T16:16:59.797777",
   "environment_variables": {},
   "exception": null,
   "input_path": "__notebook__.ipynb",
   "output_path": "__notebook__.ipynb",
   "parameters": {},
   "start_time": "2024-06-01T16:16:37.629011",
   "version": "2.5.0"
  }
 },
 "nbformat": 4,
 "nbformat_minor": 5
}
